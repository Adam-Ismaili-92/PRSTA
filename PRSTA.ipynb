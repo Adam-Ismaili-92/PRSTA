{
 "cells": [
  {
   "cell_type": "code",
   "execution_count": 14,
   "id": "4562c4e8-7cfc-4232-9afb-ea2761c053eb",
   "metadata": {},
   "outputs": [],
   "source": [
    "import numpy as np\n",
    "import pandas as pd\n",
    "import seaborn as sns\n",
    "import matplotlib.pyplot as plt\n",
    "from scipy.stats import norm, shapiro, pearsonr, ttest_1samp, chi2"
   ]
  },
  {
   "cell_type": "markdown",
   "id": "3bfcac6d-1725-44ae-b068-888707f3c678",
   "metadata": {},
   "source": [
    "## I. Loading du dataset"
   ]
  },
  {
   "cell_type": "markdown",
   "id": "705ce952-2834-433f-ae55-c5a2d442e4f2",
   "metadata": {},
   "source": [
    "Notre dataset est un ensemble de données entourant les performances d'un ensemble d'élève à 3 types d'examen (maths, écriture, lecture), accompagnés de différents paramètres caractérisant les personnes testées (genre, groupe éthnique, niveau d'éducation des parents, préparation à l'examen, type de repas)."
   ]
  },
  {
   "cell_type": "code",
   "execution_count": 3,
   "id": "35163ce5-099b-48d2-a4a2-d28ff656d607",
   "metadata": {},
   "outputs": [
    {
     "name": "stdout",
     "output_type": "stream",
     "text": [
      "   gender race/ethnicity parental level of education         lunch  \\\n",
      "0  female        group B           bachelor's degree      standard   \n",
      "1  female        group C                some college      standard   \n",
      "2  female        group B             master's degree      standard   \n",
      "3    male        group A          associate's degree  free/reduced   \n",
      "4    male        group C                some college      standard   \n",
      "\n",
      "  test preparation course  math score  reading score  writing score  \n",
      "0                    none          72             72             74  \n",
      "1               completed          69             90             88  \n",
      "2                    none          90             95             93  \n",
      "3                    none          47             57             44  \n",
      "4                    none          76             78             75  \n"
     ]
    }
   ],
   "source": [
    "path = './data/StudentsPerformance.csv'\n",
    "\n",
    "df = pd.read_csv(path)\n",
    "\n",
    "print(df.head())"
   ]
  },
  {
   "cell_type": "markdown",
   "id": "f19f75be-0409-4326-b0d5-92d53958b9b3",
   "metadata": {},
   "source": [
    "## II. Corrélation entre les performances à l'exam et la présence d'entrainement"
   ]
  },
  {
   "cell_type": "markdown",
   "id": "75324136-5456-4829-8090-29055e352afe",
   "metadata": {},
   "source": [
    "Constituons une colonne composée de la moyenne des scores en maths, en écriture et en lecture pour avoir un score moyen à un examen pour un individu."
   ]
  },
  {
   "cell_type": "code",
   "execution_count": 4,
   "id": "34709e55-6159-4d69-97a9-82de2d424394",
   "metadata": {},
   "outputs": [
    {
     "name": "stdout",
     "output_type": "stream",
     "text": [
      "   gender race/ethnicity parental level of education         lunch  \\\n",
      "0  female        group B           bachelor's degree      standard   \n",
      "1  female        group C                some college      standard   \n",
      "2  female        group B             master's degree      standard   \n",
      "3    male        group A          associate's degree  free/reduced   \n",
      "4    male        group C                some college      standard   \n",
      "\n",
      "  test preparation course  math score  reading score  writing score  \\\n",
      "0                    none          72             72             74   \n",
      "1               completed          69             90             88   \n",
      "2                    none          90             95             93   \n",
      "3                    none          47             57             44   \n",
      "4                    none          76             78             75   \n",
      "\n",
      "   average_exam_score  \n",
      "0           72.666667  \n",
      "1           82.333333  \n",
      "2           92.666667  \n",
      "3           49.333333  \n",
      "4           76.333333  \n"
     ]
    }
   ],
   "source": [
    "df['average_exam_score'] = df[['math score', 'writing score', 'reading score']].mean(axis=1)\n",
    "print(df.head())"
   ]
  },
  {
   "cell_type": "markdown",
   "id": "d41c9c8b-2e72-4057-be01-238dd176ef0a",
   "metadata": {},
   "source": [
    "Crééons une colonne servant à décrire la présence d'entrainement avant l'exam, où les valeurs \"completed\" seront remplacés par 1 et \"none\" par 0."
   ]
  },
  {
   "cell_type": "code",
   "execution_count": 5,
   "id": "e64c56f8-cfd7-409c-a02b-464c4b325fba",
   "metadata": {},
   "outputs": [
    {
     "name": "stdout",
     "output_type": "stream",
     "text": [
      "   gender race/ethnicity parental level of education         lunch  \\\n",
      "0  female        group B           bachelor's degree      standard   \n",
      "1  female        group C                some college      standard   \n",
      "2  female        group B             master's degree      standard   \n",
      "3    male        group A          associate's degree  free/reduced   \n",
      "4    male        group C                some college      standard   \n",
      "\n",
      "  test preparation course  math score  reading score  writing score  \\\n",
      "0                    none          72             72             74   \n",
      "1               completed          69             90             88   \n",
      "2                    none          90             95             93   \n",
      "3                    none          47             57             44   \n",
      "4                    none          76             78             75   \n",
      "\n",
      "   average_exam_score  training_score  \n",
      "0           72.666667               0  \n",
      "1           82.333333               1  \n",
      "2           92.666667               0  \n",
      "3           49.333333               0  \n",
      "4           76.333333               0  \n"
     ]
    }
   ],
   "source": [
    "df['training_score'] = df['test preparation course'].replace({'completed': 1, 'none': 0})\n",
    "print(df.head())"
   ]
  },
  {
   "cell_type": "code",
   "execution_count": 6,
   "id": "47889da8-7e42-4e8b-a734-81b002ad9cba",
   "metadata": {},
   "outputs": [
    {
     "name": "stdout",
     "output_type": "stream",
     "text": [
      "Coefficient de corrélation de Pearson : 0.25670970665622284\n",
      "P-value : 1.6337802035921747e-16\n"
     ]
    }
   ],
   "source": [
    "correlation_coefficient, p_value = pearsonr(df['training_score'], df['average_exam_score'])\n",
    "\n",
    "print(f\"Coefficient de corrélation de Pearson : {correlation_coefficient}\")\n",
    "print(f\"P-value : {p_value}\")"
   ]
  },
  {
   "cell_type": "markdown",
   "id": "0b421003-b965-4c70-8e53-5bb0cd56da3c",
   "metadata": {},
   "source": [
    "La corrélation est de 0.26, ce qui est une corrélation significative (> 0.1) mais faible.\n",
    "\n",
    "La p-value est de 1.6 * 10^-16, étant bien inférieure à 0.05, rejetant l'hypothèse nulle (H0) ; la corrélation est statistiquement significative."
   ]
  },
  {
   "cell_type": "markdown",
   "id": "0b888f40-1397-4749-b848-93e7b89a59c5",
   "metadata": {},
   "source": [
    "## III. Evaluation de la différence moyenne et d'écart-type"
   ]
  },
  {
   "cell_type": "markdown",
   "id": "2a41d0a4-da1b-4dda-9554-d562408bab31",
   "metadata": {},
   "source": [
    "Une corrélation positive entre la présence d'entrainement et les performances à l'exam signifie que l'entrainement est associée à un gain dans les peformances.\n",
    "\n",
    "Pour quantifier ce gain, nous pouvons évaluer la différence moyenne et d'écart-type entre les performances avec et sans entrainement."
   ]
  },
  {
   "cell_type": "code",
   "execution_count": 7,
   "id": "9bc1e7e7-7b3e-41dc-ad03-fdc844e4f991",
   "metadata": {},
   "outputs": [
    {
     "name": "stdout",
     "output_type": "stream",
     "text": [
      "exam scores with training : \n",
      "\n",
      " 1      82.333333\n",
      "6      91.666667\n",
      "8      65.000000\n",
      "13     73.333333\n",
      "18     44.666667\n",
      "         ...    \n",
      "990    80.666667\n",
      "991    75.000000\n",
      "995    94.000000\n",
      "997    65.000000\n",
      "998    74.333333\n",
      "Name: average_exam_score, Length: 358, dtype: float64 \n",
      "\n",
      "exam scores without training : \n",
      "\n",
      " 0      72.666667\n",
      "2      92.666667\n",
      "3      49.333333\n",
      "4      76.333333\n",
      "5      77.333333\n",
      "         ...    \n",
      "992    69.000000\n",
      "993    69.333333\n",
      "994    62.666667\n",
      "996    57.333333\n",
      "999    83.000000\n",
      "Name: average_exam_score, Length: 642, dtype: float64\n"
     ]
    }
   ],
   "source": [
    "exam_with_training_score = df.loc[df['training_score'] == 1, 'average_exam_score']\n",
    "exam_without_training_score = df.loc[df['training_score'] == 0, 'average_exam_score']\n",
    "\n",
    "print(\"exam scores with training : \\n\\n\", exam_with_training_score, \"\\n\")\n",
    "print(\"exam scores without training : \\n\\n\", exam_without_training_score)"
   ]
  },
  {
   "cell_type": "code",
   "execution_count": 8,
   "id": "397164c2-86c2-48ff-a798-e9c383ff37bf",
   "metadata": {},
   "outputs": [
    {
     "name": "stdout",
     "output_type": "stream",
     "text": [
      "mean exam score with training :  72.66945996275605\n",
      "mean exam score without training :  65.03894080996885 \n",
      "\n",
      "diff mean exam score :  7.630519152787201 \n",
      "\n",
      "std exam score with training :  13.036960254115737\n",
      "std exam score without training :  14.18670686997105\n"
     ]
    }
   ],
   "source": [
    "print(\"mean exam score with training : \", exam_with_training_score.mean())\n",
    "print(\"mean exam score without training : \", exam_without_training_score.mean(), '\\n')\n",
    "\n",
    "print(\"diff mean exam score : \", exam_with_training_score.mean() - exam_without_training_score.mean(), '\\n')\n",
    "\n",
    "print(\"std exam score with training : \", exam_with_training_score.std())\n",
    "print(\"std exam score without training : \", exam_without_training_score.std())"
   ]
  },
  {
   "cell_type": "markdown",
   "id": "cd3a1626-8b9c-48f7-968f-37fca03932a1",
   "metadata": {},
   "source": [
    "Le gain dans les performances à l'exam par la présence d'entrainement semble être de 7,6 points en moyenne.\n",
    "\n",
    "La dispersion des scores semble aussi avoir changé, l'écart-type s'étant réduit d'1 point, signifiant que les performances se rapprochent davantage de la moyenne ; que les inégalités de performance se réduisent."
   ]
  },
  {
   "cell_type": "markdown",
   "id": "7947bdce-2c17-439e-afd6-2c62983f1e6e",
   "metadata": {},
   "source": [
    "## IV. Evaluation de la nature de la distribution des données, et de la signifiance statistique des différences"
   ]
  },
  {
   "cell_type": "markdown",
   "id": "81c70855-03b6-44e2-a355-df2f3d52e3a0",
   "metadata": {},
   "source": [
    "Nous pouvons ensuite vérifier si ces différences sont statistiquement significatives.\n",
    "\n",
    "Pour cela, nous pouvons vérifier la nature de la distribution des données pour observer si elles sont bien comparables, et vérifier si le gain en moyenne et la diminution de l'écart-type sont significatives (p-value < 0.05)."
   ]
  },
  {
   "cell_type": "code",
   "execution_count": 9,
   "id": "6fc859f5-8257-47f7-9338-f6b8a97f7dae",
   "metadata": {},
   "outputs": [],
   "source": [
    "counts1, bins1 = np.histogram(exam_with_training_score)\n",
    "counts2, bins2 = np.histogram(exam_without_training_score)\n",
    "\n",
    "x1 = np.linspace(0, 100, 358)\n",
    "normal_distrib1 = norm.pdf(x1, exam_with_training_score.mean(), exam_with_training_score.std())\n",
    "\n",
    "x2 = np.linspace(0, 100, 642)\n",
    "normal_distrib2 = norm.pdf(x2, exam_without_training_score.mean(), exam_without_training_score.std())"
   ]
  },
  {
   "cell_type": "code",
   "execution_count": 10,
   "id": "45b7e8a7-3c76-4986-b61b-7bcc5fa7c40b",
   "metadata": {},
   "outputs": [
    {
     "data": {
      "image/png": "[encoded data removed]",
      "text/plain": [
       "<Figure size 1000x500 with 2 Axes>"
      ]
     },
     "metadata": {},
     "output_type": "display_data"
    }
   ],
   "source": [
    "plt.figure(figsize=(10, 5))\n",
    "\n",
    "plt.subplot(1, 2, 1) \n",
    "plt.hist(bins1[:-1], bins1, weights=counts1, color='blue', alpha=0.7)\n",
    "plt.plot(x1, normal_distrib1 * 2333, color=\"red\")\n",
    "plt.title('Histo exam with training')\n",
    "\n",
    "plt.subplot(1, 2, 2)\n",
    "plt.hist(bins2[:-1], bins2, weights=counts2, color='blue', alpha=0.7)\n",
    "plt.plot(x2, normal_distrib2 * 6000, color=\"red\")\n",
    "plt.title('Histo exam without training')\n",
    "\n",
    "plt.tight_layout()\n",
    "\n",
    "plt.show()"
   ]
  },
  {
   "cell_type": "markdown",
   "id": "5f0e3f89-7836-49aa-bb96-b82bd03969f5",
   "metadata": {},
   "source": [
    "Les données semblent suivre une distribution normale. Pour en être sûr, effectuons un test d'adéquation à la loi normale (test de Shapiro-Wilk) pour nos données."
   ]
  },
  {
   "cell_type": "code",
   "execution_count": 11,
   "id": "acd3e761-a0ab-4b67-9da3-38663b82bcf9",
   "metadata": {},
   "outputs": [
    {
     "data": {
      "text/plain": [
       "(0.6168880462646484, 0.16210775077342987)"
      ]
     },
     "execution_count": 11,
     "metadata": {},
     "output_type": "execute_result"
    }
   ],
   "source": [
    "_, p_value1 = shapiro(counts1)\n",
    "_, p_value2 = shapiro(counts2)\n",
    "\n",
    "p_value1, p_value2"
   ]
  },
  {
   "cell_type": "markdown",
   "id": "79d7bc94-051b-4640-8548-813389e167c4",
   "metadata": {},
   "source": [
    "Les p-values sont supérieures à 0.05, nous n'avons donc pas assez de preuve pour rejeter l'hypothèse nulle. En prenant compte de l'allure des données, nous pouvons admettre que celles-ci suivent bien une distribution normale. Elles sont donc comparables.\n",
    "\n",
    "Testons maintenant si le gain en moyenne est statistiquement significatif, par un test de t unilatéral à droite."
   ]
  },
  {
   "cell_type": "code",
   "execution_count": 12,
   "id": "618e74fe-b323-4e08-82cb-197fc1435edc",
   "metadata": {},
   "outputs": [
    {
     "data": {
      "text/plain": [
       "5.303292947477778e-25"
      ]
     },
     "execution_count": 12,
     "metadata": {},
     "output_type": "execute_result"
    }
   ],
   "source": [
    "_, p_value = ttest_1samp(exam_with_training_score, exam_without_training_score.mean(), alternative='greater')\n",
    "\n",
    "p_value"
   ]
  },
  {
   "cell_type": "markdown",
   "id": "3eb9db5e-e36d-420e-a3b3-e66c07bc1a4d",
   "metadata": {},
   "source": [
    "La p-value est largement inférieure à 0.05 (5.3 * 10^-25), l'hypothèse nulle (H0) est donc rejetée ; le gain en moyenne est bien statistiquement significatif.\n",
    "\n",
    "Testons également si la réduction de l'écart-type est statistiquement significatif, par un test de rapport de vraisemblance."
   ]
  },
  {
   "cell_type": "code",
   "execution_count": 15,
   "id": "dd333bb7-aadf-4ec9-869b-dbb9f6c329d5",
   "metadata": {},
   "outputs": [
    {
     "data": {
      "text/plain": [
       "0.0008675296702521651"
      ]
     },
     "execution_count": 15,
     "metadata": {},
     "output_type": "execute_result"
    }
   ],
   "source": [
    "test_statistique = (len(exam_without_training_score) - 1) * (exam_without_training_score.std() ** 2) / (exam_with_training_score.std() ** 2)\n",
    "\n",
    "ddl = len(exam_without_training_score) - 1 #deg de liberté\n",
    "\n",
    "p_value = 1 - chi2.cdf(test_statistique, ddl)\n",
    "\n",
    "p_value"
   ]
  },
  {
   "cell_type": "markdown",
   "id": "2b039915-a2d9-490e-94bc-7f3320324b95",
   "metadata": {},
   "source": [
    "La p-value est inférieure à 0.05 (8.6 * 10^-4), l'hypothèse nulle (H0) est donc rejetée ; la réduction de l'écart-type est bien statistiquement significative."
   ]
  }
 ],
 "metadata": {
  "kernelspec": {
   "display_name": "Python 3 (ipykernel)",
   "language": "python",
   "name": "python3"
  },
  "language_info": {
   "codemirror_mode": {
    "name": "ipython",
    "version": 3
   },
   "file_extension": ".py",
   "mimetype": "text/x-python",
   "name": "python",
   "nbconvert_exporter": "python",
   "pygments_lexer": "ipython3",
   "version": "3.10.12"
  }
 },
 "nbformat": 4,
 "nbformat_minor": 5
}
